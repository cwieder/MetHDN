{
 "cells": [
  {
   "cell_type": "markdown",
   "metadata": {},
   "source": [
    "# Check ChEBI annotation rate in MetaboLights"
   ]
  },
  {
   "cell_type": "code",
   "execution_count": 17,
   "metadata": {},
   "outputs": [],
   "source": [
    "import pandas as pd\n",
    "import numpy as np\n",
    "import matplotlib.pyplot as plt\n",
    "import seaborn as sns"
   ]
  },
  {
   "cell_type": "code",
   "execution_count": 24,
   "metadata": {},
   "outputs": [],
   "source": [
    "mtbls_stats = pd.read_csv('MetaboLights_annotation_kibana.csv')"
   ]
  },
  {
   "cell_type": "code",
   "execution_count": 20,
   "metadata": {},
   "outputs": [
    {
     "data": {
      "text/html": [
       "<div>\n",
       "<style scoped>\n",
       "    .dataframe tbody tr th:only-of-type {\n",
       "        vertical-align: middle;\n",
       "    }\n",
       "\n",
       "    .dataframe tbody tr th {\n",
       "        vertical-align: top;\n",
       "    }\n",
       "\n",
       "    .dataframe thead th {\n",
       "        text-align: right;\n",
       "    }\n",
       "</style>\n",
       "<table border=\"1\" class=\"dataframe\">\n",
       "  <thead>\n",
       "    <tr style=\"text-align: right;\">\n",
       "      <th></th>\n",
       "      <th>numberOfMetaboliteAssignedRows</th>\n",
       "      <th>identifier</th>\n",
       "      <th>metaboliteAssignmentFiles.numberOfAssignedRows</th>\n",
       "      <th>metaboliteAssignmentFiles.numberOfUnassignedRows</th>\n",
       "      <th>numberOfMetaboliteAssignedRows_Sum</th>\n",
       "    </tr>\n",
       "  </thead>\n",
       "  <tbody>\n",
       "    <tr>\n",
       "      <th>0</th>\n",
       "      <td>7</td>\n",
       "      <td>MTBLS571</td>\n",
       "      <td>7</td>\n",
       "      <td>101</td>\n",
       "      <td>7.0</td>\n",
       "    </tr>\n",
       "    <tr>\n",
       "      <th>1</th>\n",
       "      <td>0</td>\n",
       "      <td>MTBLS574</td>\n",
       "      <td>NaN</td>\n",
       "      <td>NaN</td>\n",
       "      <td>0.0</td>\n",
       "    </tr>\n",
       "    <tr>\n",
       "      <th>2</th>\n",
       "      <td>120</td>\n",
       "      <td>MTBLS577</td>\n",
       "      <td>67, 53</td>\n",
       "      <td>0, 0</td>\n",
       "      <td>120.0</td>\n",
       "    </tr>\n",
       "    <tr>\n",
       "      <th>3</th>\n",
       "      <td>37</td>\n",
       "      <td>MTBLS575</td>\n",
       "      <td>11, 8, 14, 4</td>\n",
       "      <td>22, 42, 47, 40</td>\n",
       "      <td>37.0</td>\n",
       "    </tr>\n",
       "    <tr>\n",
       "      <th>4</th>\n",
       "      <td>0</td>\n",
       "      <td>MTBLS572</td>\n",
       "      <td>0</td>\n",
       "      <td>8,368</td>\n",
       "      <td>0.0</td>\n",
       "    </tr>\n",
       "    <tr>\n",
       "      <th>...</th>\n",
       "      <td>...</td>\n",
       "      <td>...</td>\n",
       "      <td>...</td>\n",
       "      <td>...</td>\n",
       "      <td>...</td>\n",
       "    </tr>\n",
       "    <tr>\n",
       "      <th>1461</th>\n",
       "      <td>0</td>\n",
       "      <td>MTBLS555</td>\n",
       "      <td>0</td>\n",
       "      <td>2,456</td>\n",
       "      <td>0.0</td>\n",
       "    </tr>\n",
       "    <tr>\n",
       "      <th>1462</th>\n",
       "      <td>234</td>\n",
       "      <td>MTBLS4461</td>\n",
       "      <td>234</td>\n",
       "      <td>263</td>\n",
       "      <td>234.0</td>\n",
       "    </tr>\n",
       "    <tr>\n",
       "      <th>1463</th>\n",
       "      <td>0</td>\n",
       "      <td>MTBLS518</td>\n",
       "      <td>0, 0</td>\n",
       "      <td>7,806, 10,224</td>\n",
       "      <td>0.0</td>\n",
       "    </tr>\n",
       "    <tr>\n",
       "      <th>1464</th>\n",
       "      <td>0</td>\n",
       "      <td>MTBLS542</td>\n",
       "      <td>0, 0</td>\n",
       "      <td>18,018, 7,056</td>\n",
       "      <td>0.0</td>\n",
       "    </tr>\n",
       "    <tr>\n",
       "      <th>1465</th>\n",
       "      <td>0</td>\n",
       "      <td>MTBLS4437</td>\n",
       "      <td>0, 0, 0, 0, 0, 0</td>\n",
       "      <td>4,012, 14,659, 10,477, 28,107, 4,283, 8,756</td>\n",
       "      <td>0.0</td>\n",
       "    </tr>\n",
       "  </tbody>\n",
       "</table>\n",
       "<p>1466 rows × 5 columns</p>\n",
       "</div>"
      ],
      "text/plain": [
       "     numberOfMetaboliteAssignedRows identifier  \\\n",
       "0                                 7   MTBLS571   \n",
       "1                                 0   MTBLS574   \n",
       "2                               120   MTBLS577   \n",
       "3                                37   MTBLS575   \n",
       "4                                 0   MTBLS572   \n",
       "...                             ...        ...   \n",
       "1461                              0   MTBLS555   \n",
       "1462                            234  MTBLS4461   \n",
       "1463                              0   MTBLS518   \n",
       "1464                              0   MTBLS542   \n",
       "1465                              0  MTBLS4437   \n",
       "\n",
       "     metaboliteAssignmentFiles.numberOfAssignedRows  \\\n",
       "0                                                 7   \n",
       "1                                               NaN   \n",
       "2                                            67, 53   \n",
       "3                                      11, 8, 14, 4   \n",
       "4                                                 0   \n",
       "...                                             ...   \n",
       "1461                                              0   \n",
       "1462                                            234   \n",
       "1463                                           0, 0   \n",
       "1464                                           0, 0   \n",
       "1465                               0, 0, 0, 0, 0, 0   \n",
       "\n",
       "     metaboliteAssignmentFiles.numberOfUnassignedRows  \\\n",
       "0                                                 101   \n",
       "1                                                 NaN   \n",
       "2                                                0, 0   \n",
       "3                                      22, 42, 47, 40   \n",
       "4                                               8,368   \n",
       "...                                               ...   \n",
       "1461                                            2,456   \n",
       "1462                                              263   \n",
       "1463                                    7,806, 10,224   \n",
       "1464                                    18,018, 7,056   \n",
       "1465      4,012, 14,659, 10,477, 28,107, 4,283, 8,756   \n",
       "\n",
       "      numberOfMetaboliteAssignedRows_Sum  \n",
       "0                                    7.0  \n",
       "1                                    0.0  \n",
       "2                                  120.0  \n",
       "3                                   37.0  \n",
       "4                                    0.0  \n",
       "...                                  ...  \n",
       "1461                                 0.0  \n",
       "1462                               234.0  \n",
       "1463                                 0.0  \n",
       "1464                                 0.0  \n",
       "1465                                 0.0  \n",
       "\n",
       "[1466 rows x 5 columns]"
      ]
     },
     "execution_count": 20,
     "metadata": {},
     "output_type": "execute_result"
    }
   ],
   "source": [
    "mtbls_stats"
   ]
  },
  {
   "cell_type": "code",
   "execution_count": 25,
   "metadata": {},
   "outputs": [],
   "source": [
    "# replace '-' with NaN\n",
    "mtbls_stats = mtbls_stats.replace('-', '0')"
   ]
  },
  {
   "cell_type": "code",
   "execution_count": 28,
   "metadata": {},
   "outputs": [],
   "source": [
    "# sum across multiple assays\n",
    "mtbls_stats['numberOfMetaboliteAssignedRows_Sum'] = mtbls_stats['numberOfMetaboliteAssignedRows'].apply(lambda x: sum(map(float, x.split(','))))"
   ]
  },
  {
   "cell_type": "code",
   "execution_count": 26,
   "metadata": {},
   "outputs": [],
   "source": [
    "mtbls_stats['metaboliteAssignmentFiles.numberOfUnassignedRows_Sum'] = mtbls_stats['metaboliteAssignmentFiles.numberOfUnassignedRows'].apply(lambda x: sum(map(float, x.split(','))))"
   ]
  },
  {
   "cell_type": "code",
   "execution_count": 10,
   "metadata": {},
   "outputs": [
    {
     "data": {
      "text/plain": [
       "numberOfMetaboliteAssignedRows                       object\n",
       "identifier                                           object\n",
       "metaboliteAssignmentFiles.numberOfAssignedRows       object\n",
       "metaboliteAssignmentFiles.numberOfUnassignedRows     object\n",
       "numberOfMetaboliteAssignedRows_Sum                  float64\n",
       "dtype: object"
      ]
     },
     "execution_count": 10,
     "metadata": {},
     "output_type": "execute_result"
    }
   ],
   "source": [
    "mtbls_stats.dtypes"
   ]
  },
  {
   "cell_type": "code",
   "execution_count": 29,
   "metadata": {},
   "outputs": [
    {
     "data": {
      "image/png": "[encoded data removed]",
      "text/plain": [
       "<Figure size 640x480 with 1 Axes>"
      ]
     },
     "metadata": {},
     "output_type": "display_data"
    }
   ],
   "source": [
    "sns.histplot(\n",
    "    mtbls_stats['numberOfMetaboliteAssignedRows_Sum']\n",
    ")\n",
    "sns.histplot(\n",
    "    mtbls_stats['metaboliteAssignmentFiles.numberOfUnassignedRows_Sum']\n",
    ")\n",
    "plt.show()"
   ]
  },
  {
   "cell_type": "markdown",
   "metadata": {},
   "source": [
    "# Workbench number of annotated REFMETS"
   ]
  },
  {
   "cell_type": "code",
   "execution_count": 33,
   "metadata": {},
   "outputs": [],
   "source": [
    "named_met_df = pd.read_csv('Workbench_integration/Named_metabolites_Workbench.csv', index_col=0)"
   ]
  },
  {
   "cell_type": "code",
   "execution_count": 74,
   "metadata": {},
   "outputs": [],
   "source": [
    "metabolights_chebis = pd.DataFrame(mtbls_stats['numberOfMetaboliteAssignedRows_Sum'].values, columns=['count_per_study'])\n",
    "metabolights_chebis['Source'] = 'MetaboLights (ChEBI)'\n",
    "workbench_refmets = pd.DataFrame(named_met_df['num_metabolites'].values, columns=['count_per_study'])\n",
    "workbench_refmets['Source'] = 'Metabolomics Workbench (RefMet)'\n",
    "combined_res = pd.concat([metabolights_chebis, workbench_refmets], axis=0)"
   ]
  },
  {
   "cell_type": "code",
   "execution_count": 84,
   "metadata": {},
   "outputs": [
    {
     "data": {
      "text/html": [
       "<div>\n",
       "<style scoped>\n",
       "    .dataframe tbody tr th:only-of-type {\n",
       "        vertical-align: middle;\n",
       "    }\n",
       "\n",
       "    .dataframe tbody tr th {\n",
       "        vertical-align: top;\n",
       "    }\n",
       "\n",
       "    .dataframe thead th {\n",
       "        text-align: right;\n",
       "    }\n",
       "</style>\n",
       "<table border=\"1\" class=\"dataframe\">\n",
       "  <thead>\n",
       "    <tr style=\"text-align: right;\">\n",
       "      <th></th>\n",
       "      <th>count_per_study</th>\n",
       "      <th>Source</th>\n",
       "    </tr>\n",
       "  </thead>\n",
       "  <tbody>\n",
       "    <tr>\n",
       "      <th>0</th>\n",
       "      <td>7.0</td>\n",
       "      <td>MetaboLights (ChEBI)</td>\n",
       "    </tr>\n",
       "    <tr>\n",
       "      <th>1</th>\n",
       "      <td>0.0</td>\n",
       "      <td>MetaboLights (ChEBI)</td>\n",
       "    </tr>\n",
       "    <tr>\n",
       "      <th>2</th>\n",
       "      <td>120.0</td>\n",
       "      <td>MetaboLights (ChEBI)</td>\n",
       "    </tr>\n",
       "    <tr>\n",
       "      <th>3</th>\n",
       "      <td>37.0</td>\n",
       "      <td>MetaboLights (ChEBI)</td>\n",
       "    </tr>\n",
       "    <tr>\n",
       "      <th>4</th>\n",
       "      <td>0.0</td>\n",
       "      <td>MetaboLights (ChEBI)</td>\n",
       "    </tr>\n",
       "    <tr>\n",
       "      <th>...</th>\n",
       "      <td>...</td>\n",
       "      <td>...</td>\n",
       "    </tr>\n",
       "    <tr>\n",
       "      <th>3274</th>\n",
       "      <td>53.0</td>\n",
       "      <td>Metabolomics Workbench (RefMet)</td>\n",
       "    </tr>\n",
       "    <tr>\n",
       "      <th>3275</th>\n",
       "      <td>168.0</td>\n",
       "      <td>Metabolomics Workbench (RefMet)</td>\n",
       "    </tr>\n",
       "    <tr>\n",
       "      <th>3276</th>\n",
       "      <td>97.0</td>\n",
       "      <td>Metabolomics Workbench (RefMet)</td>\n",
       "    </tr>\n",
       "    <tr>\n",
       "      <th>3277</th>\n",
       "      <td>162.0</td>\n",
       "      <td>Metabolomics Workbench (RefMet)</td>\n",
       "    </tr>\n",
       "    <tr>\n",
       "      <th>3278</th>\n",
       "      <td>117.0</td>\n",
       "      <td>Metabolomics Workbench (RefMet)</td>\n",
       "    </tr>\n",
       "  </tbody>\n",
       "</table>\n",
       "<p>4745 rows × 2 columns</p>\n",
       "</div>"
      ],
      "text/plain": [
       "      count_per_study                           Source\n",
       "0                 7.0             MetaboLights (ChEBI)\n",
       "1                 0.0             MetaboLights (ChEBI)\n",
       "2               120.0             MetaboLights (ChEBI)\n",
       "3                37.0             MetaboLights (ChEBI)\n",
       "4                 0.0             MetaboLights (ChEBI)\n",
       "...               ...                              ...\n",
       "3274             53.0  Metabolomics Workbench (RefMet)\n",
       "3275            168.0  Metabolomics Workbench (RefMet)\n",
       "3276             97.0  Metabolomics Workbench (RefMet)\n",
       "3277            162.0  Metabolomics Workbench (RefMet)\n",
       "3278            117.0  Metabolomics Workbench (RefMet)\n",
       "\n",
       "[4745 rows x 2 columns]"
      ]
     },
     "execution_count": 84,
     "metadata": {},
     "output_type": "execute_result"
    }
   ],
   "source": [
    "combined_res"
   ]
  },
  {
   "cell_type": "markdown",
   "metadata": {},
   "source": [
    "Number of database identifiers"
   ]
  },
  {
   "cell_type": "code",
   "execution_count": 97,
   "metadata": {},
   "outputs": [
    {
     "data": {
      "image/png": "[encoded data removed]",
      "text/plain": [
       "<Figure size 600x500 with 1 Axes>"
      ]
     },
     "metadata": {},
     "output_type": "display_data"
    }
   ],
   "source": [
    "plt.figure(figsize=(6, 5))\n",
    "sns.histplot(\n",
    "    data=combined_res,\n",
    "    x='count_per_study',\n",
    "    hue='Source',\n",
    "    log_scale=True,\n",
    "    element='step',\n",
    "    # fill=False\n",
    ")\n",
    "plt.xlabel('Number of database identifiers assigned per study ($log_{10}$)')\n",
    "plt.tight_layout()\n",
    "plt.show()"
   ]
  },
  {
   "cell_type": "markdown",
   "metadata": {},
   "source": [
    "Number without identifiers"
   ]
  },
  {
   "cell_type": "code",
   "execution_count": 100,
   "metadata": {},
   "outputs": [],
   "source": [
    "metabolights_annotated = pd.DataFrame(mtbls_stats['numberOfMetaboliteAssignedRows_Sum'].values, columns=['count_per_study'])\n",
    "metabolights_annotated['Source'] = 'MetaboLights annotated (ChEBI)'\n",
    "metabolights_unannotated = pd.DataFrame(mtbls_stats['metaboliteAssignmentFiles.numberOfUnassignedRows_Sum'].values, columns=['count_per_study'])\n",
    "metabolights_unannotated['Source'] = 'MetaboLights unannotated (ChEBI)'\n",
    "combined_res_annotation = pd.concat([metabolights_annotated, metabolights_unannotated], axis=0)"
   ]
  },
  {
   "cell_type": "code",
   "execution_count": 115,
   "metadata": {},
   "outputs": [
    {
     "data": {
      "text/html": [
       "<div>\n",
       "<style scoped>\n",
       "    .dataframe tbody tr th:only-of-type {\n",
       "        vertical-align: middle;\n",
       "    }\n",
       "\n",
       "    .dataframe tbody tr th {\n",
       "        vertical-align: top;\n",
       "    }\n",
       "\n",
       "    .dataframe thead th {\n",
       "        text-align: right;\n",
       "    }\n",
       "</style>\n",
       "<table border=\"1\" class=\"dataframe\">\n",
       "  <thead>\n",
       "    <tr style=\"text-align: right;\">\n",
       "      <th></th>\n",
       "      <th>count_per_study</th>\n",
       "      <th>Source</th>\n",
       "    </tr>\n",
       "  </thead>\n",
       "  <tbody>\n",
       "    <tr>\n",
       "      <th>0</th>\n",
       "      <td>7.0</td>\n",
       "      <td>MetaboLights annotated (ChEBI)</td>\n",
       "    </tr>\n",
       "    <tr>\n",
       "      <th>1</th>\n",
       "      <td>0.0</td>\n",
       "      <td>MetaboLights annotated (ChEBI)</td>\n",
       "    </tr>\n",
       "    <tr>\n",
       "      <th>2</th>\n",
       "      <td>120.0</td>\n",
       "      <td>MetaboLights annotated (ChEBI)</td>\n",
       "    </tr>\n",
       "    <tr>\n",
       "      <th>3</th>\n",
       "      <td>37.0</td>\n",
       "      <td>MetaboLights annotated (ChEBI)</td>\n",
       "    </tr>\n",
       "    <tr>\n",
       "      <th>4</th>\n",
       "      <td>0.0</td>\n",
       "      <td>MetaboLights annotated (ChEBI)</td>\n",
       "    </tr>\n",
       "    <tr>\n",
       "      <th>...</th>\n",
       "      <td>...</td>\n",
       "      <td>...</td>\n",
       "    </tr>\n",
       "    <tr>\n",
       "      <th>1461</th>\n",
       "      <td>458.0</td>\n",
       "      <td>MetaboLights unannotated (ChEBI)</td>\n",
       "    </tr>\n",
       "    <tr>\n",
       "      <th>1462</th>\n",
       "      <td>263.0</td>\n",
       "      <td>MetaboLights unannotated (ChEBI)</td>\n",
       "    </tr>\n",
       "    <tr>\n",
       "      <th>1463</th>\n",
       "      <td>1047.0</td>\n",
       "      <td>MetaboLights unannotated (ChEBI)</td>\n",
       "    </tr>\n",
       "    <tr>\n",
       "      <th>1464</th>\n",
       "      <td>99.0</td>\n",
       "      <td>MetaboLights unannotated (ChEBI)</td>\n",
       "    </tr>\n",
       "    <tr>\n",
       "      <th>1465</th>\n",
       "      <td>2362.0</td>\n",
       "      <td>MetaboLights unannotated (ChEBI)</td>\n",
       "    </tr>\n",
       "  </tbody>\n",
       "</table>\n",
       "<p>2932 rows × 2 columns</p>\n",
       "</div>"
      ],
      "text/plain": [
       "      count_per_study                            Source\n",
       "0                 7.0    MetaboLights annotated (ChEBI)\n",
       "1                 0.0    MetaboLights annotated (ChEBI)\n",
       "2               120.0    MetaboLights annotated (ChEBI)\n",
       "3                37.0    MetaboLights annotated (ChEBI)\n",
       "4                 0.0    MetaboLights annotated (ChEBI)\n",
       "...               ...                               ...\n",
       "1461            458.0  MetaboLights unannotated (ChEBI)\n",
       "1462            263.0  MetaboLights unannotated (ChEBI)\n",
       "1463           1047.0  MetaboLights unannotated (ChEBI)\n",
       "1464             99.0  MetaboLights unannotated (ChEBI)\n",
       "1465           2362.0  MetaboLights unannotated (ChEBI)\n",
       "\n",
       "[2932 rows x 2 columns]"
      ]
     },
     "execution_count": 115,
     "metadata": {},
     "output_type": "execute_result"
    }
   ],
   "source": [
    "combined_res_annotation"
   ]
  },
  {
   "cell_type": "code",
   "execution_count": 134,
   "metadata": {},
   "outputs": [
    {
     "data": {
      "image/png": "[encoded data removed]",
      "text/plain": [
       "<Figure size 600x500 with 1 Axes>"
      ]
     },
     "metadata": {},
     "output_type": "display_data"
    }
   ],
   "source": [
    "plt.figure(figsize=(6, 5))\n",
    "sns.histplot(\n",
    "    data=combined_res_annotation,\n",
    "    x='count_per_study',\n",
    "    hue='Source',\n",
    "    log_scale=True,\n",
    "    # element='step',\n",
    "    multiple='fill',\n",
    "    hue_order=['MetaboLights unannotated (ChEBI)', 'MetaboLights annotated (ChEBI)'],\n",
    "    # fill=False\n",
    "    stat=\"proportion\"\n",
    ")\n",
    "plt.xlabel('Number of database identifiers assigned per study ($log_{10}$)')\n",
    "plt.tight_layout()\n",
    "plt.show()"
   ]
  },
  {
   "cell_type": "code",
   "execution_count": 142,
   "metadata": {},
   "outputs": [
    {
     "data": {
      "text/html": [
       "<div>\n",
       "<style scoped>\n",
       "    .dataframe tbody tr th:only-of-type {\n",
       "        vertical-align: middle;\n",
       "    }\n",
       "\n",
       "    .dataframe tbody tr th {\n",
       "        vertical-align: top;\n",
       "    }\n",
       "\n",
       "    .dataframe thead th {\n",
       "        text-align: right;\n",
       "    }\n",
       "</style>\n",
       "<table border=\"1\" class=\"dataframe\">\n",
       "  <thead>\n",
       "    <tr style=\"text-align: right;\">\n",
       "      <th></th>\n",
       "      <th>count_per_study</th>\n",
       "    </tr>\n",
       "    <tr>\n",
       "      <th>Source</th>\n",
       "      <th></th>\n",
       "    </tr>\n",
       "  </thead>\n",
       "  <tbody>\n",
       "    <tr>\n",
       "      <th>MetaboLights annotated (ChEBI)</th>\n",
       "      <td>311</td>\n",
       "    </tr>\n",
       "    <tr>\n",
       "      <th>MetaboLights unannotated (ChEBI)</th>\n",
       "      <td>861</td>\n",
       "    </tr>\n",
       "  </tbody>\n",
       "</table>\n",
       "</div>"
      ],
      "text/plain": [
       "                                  count_per_study\n",
       "Source                                           \n",
       "MetaboLights annotated (ChEBI)                311\n",
       "MetaboLights unannotated (ChEBI)              861"
      ]
     },
     "execution_count": 142,
     "metadata": {},
     "output_type": "execute_result"
    }
   ],
   "source": [
    "combined_res_annotation[combined_res_annotation['count_per_study'] < 10].groupby('Source').count()"
   ]
  },
  {
   "cell_type": "code",
   "execution_count": 111,
   "metadata": {},
   "outputs": [
    {
     "data": {
      "text/html": [
       "<div>\n",
       "<style scoped>\n",
       "    .dataframe tbody tr th:only-of-type {\n",
       "        vertical-align: middle;\n",
       "    }\n",
       "\n",
       "    .dataframe tbody tr th {\n",
       "        vertical-align: top;\n",
       "    }\n",
       "\n",
       "    .dataframe thead th {\n",
       "        text-align: right;\n",
       "    }\n",
       "</style>\n",
       "<table border=\"1\" class=\"dataframe\">\n",
       "  <thead>\n",
       "    <tr style=\"text-align: right;\">\n",
       "      <th></th>\n",
       "      <th>total_bill</th>\n",
       "      <th>tip</th>\n",
       "      <th>sex</th>\n",
       "      <th>smoker</th>\n",
       "      <th>day</th>\n",
       "      <th>time</th>\n",
       "      <th>size</th>\n",
       "    </tr>\n",
       "  </thead>\n",
       "  <tbody>\n",
       "    <tr>\n",
       "      <th>0</th>\n",
       "      <td>16.99</td>\n",
       "      <td>1.01</td>\n",
       "      <td>Female</td>\n",
       "      <td>No</td>\n",
       "      <td>Sun</td>\n",
       "      <td>Dinner</td>\n",
       "      <td>2</td>\n",
       "    </tr>\n",
       "    <tr>\n",
       "      <th>1</th>\n",
       "      <td>10.34</td>\n",
       "      <td>1.66</td>\n",
       "      <td>Male</td>\n",
       "      <td>No</td>\n",
       "      <td>Sun</td>\n",
       "      <td>Dinner</td>\n",
       "      <td>3</td>\n",
       "    </tr>\n",
       "    <tr>\n",
       "      <th>2</th>\n",
       "      <td>21.01</td>\n",
       "      <td>3.50</td>\n",
       "      <td>Male</td>\n",
       "      <td>No</td>\n",
       "      <td>Sun</td>\n",
       "      <td>Dinner</td>\n",
       "      <td>3</td>\n",
       "    </tr>\n",
       "    <tr>\n",
       "      <th>3</th>\n",
       "      <td>23.68</td>\n",
       "      <td>3.31</td>\n",
       "      <td>Male</td>\n",
       "      <td>No</td>\n",
       "      <td>Sun</td>\n",
       "      <td>Dinner</td>\n",
       "      <td>2</td>\n",
       "    </tr>\n",
       "    <tr>\n",
       "      <th>4</th>\n",
       "      <td>24.59</td>\n",
       "      <td>3.61</td>\n",
       "      <td>Female</td>\n",
       "      <td>No</td>\n",
       "      <td>Sun</td>\n",
       "      <td>Dinner</td>\n",
       "      <td>4</td>\n",
       "    </tr>\n",
       "    <tr>\n",
       "      <th>...</th>\n",
       "      <td>...</td>\n",
       "      <td>...</td>\n",
       "      <td>...</td>\n",
       "      <td>...</td>\n",
       "      <td>...</td>\n",
       "      <td>...</td>\n",
       "      <td>...</td>\n",
       "    </tr>\n",
       "    <tr>\n",
       "      <th>239</th>\n",
       "      <td>29.03</td>\n",
       "      <td>5.92</td>\n",
       "      <td>Male</td>\n",
       "      <td>No</td>\n",
       "      <td>Sat</td>\n",
       "      <td>Dinner</td>\n",
       "      <td>3</td>\n",
       "    </tr>\n",
       "    <tr>\n",
       "      <th>240</th>\n",
       "      <td>27.18</td>\n",
       "      <td>2.00</td>\n",
       "      <td>Female</td>\n",
       "      <td>Yes</td>\n",
       "      <td>Sat</td>\n",
       "      <td>Dinner</td>\n",
       "      <td>2</td>\n",
       "    </tr>\n",
       "    <tr>\n",
       "      <th>241</th>\n",
       "      <td>22.67</td>\n",
       "      <td>2.00</td>\n",
       "      <td>Male</td>\n",
       "      <td>Yes</td>\n",
       "      <td>Sat</td>\n",
       "      <td>Dinner</td>\n",
       "      <td>2</td>\n",
       "    </tr>\n",
       "    <tr>\n",
       "      <th>242</th>\n",
       "      <td>17.82</td>\n",
       "      <td>1.75</td>\n",
       "      <td>Male</td>\n",
       "      <td>No</td>\n",
       "      <td>Sat</td>\n",
       "      <td>Dinner</td>\n",
       "      <td>2</td>\n",
       "    </tr>\n",
       "    <tr>\n",
       "      <th>243</th>\n",
       "      <td>18.78</td>\n",
       "      <td>3.00</td>\n",
       "      <td>Female</td>\n",
       "      <td>No</td>\n",
       "      <td>Thur</td>\n",
       "      <td>Dinner</td>\n",
       "      <td>2</td>\n",
       "    </tr>\n",
       "  </tbody>\n",
       "</table>\n",
       "<p>244 rows × 7 columns</p>\n",
       "</div>"
      ],
      "text/plain": [
       "     total_bill   tip     sex smoker   day    time  size\n",
       "0         16.99  1.01  Female     No   Sun  Dinner     2\n",
       "1         10.34  1.66    Male     No   Sun  Dinner     3\n",
       "2         21.01  3.50    Male     No   Sun  Dinner     3\n",
       "3         23.68  3.31    Male     No   Sun  Dinner     2\n",
       "4         24.59  3.61  Female     No   Sun  Dinner     4\n",
       "..          ...   ...     ...    ...   ...     ...   ...\n",
       "239       29.03  5.92    Male     No   Sat  Dinner     3\n",
       "240       27.18  2.00  Female    Yes   Sat  Dinner     2\n",
       "241       22.67  2.00    Male    Yes   Sat  Dinner     2\n",
       "242       17.82  1.75    Male     No   Sat  Dinner     2\n",
       "243       18.78  3.00  Female     No  Thur  Dinner     2\n",
       "\n",
       "[244 rows x 7 columns]"
      ]
     },
     "execution_count": 111,
     "metadata": {},
     "output_type": "execute_result"
    }
   ],
   "source": [
    "tips = sns.load_dataset(\"tips\")\n",
    "tips"
   ]
  },
  {
   "cell_type": "code",
   "execution_count": 39,
   "metadata": {},
   "outputs": [
    {
     "data": {
      "text/plain": [
       "count     3279.000000\n",
       "mean       200.111924\n",
       "std        467.348021\n",
       "min          1.000000\n",
       "25%         31.000000\n",
       "50%         98.000000\n",
       "75%        213.000000\n",
       "max      11992.000000\n",
       "Name: num_metabolites, dtype: float64"
      ]
     },
     "execution_count": 39,
     "metadata": {},
     "output_type": "execute_result"
    }
   ],
   "source": [
    "named_met_df['num_metabolites'].describe()"
   ]
  },
  {
   "cell_type": "code",
   "execution_count": 41,
   "metadata": {},
   "outputs": [
    {
     "data": {
      "image/png": "[encoded data removed]",
      "text/plain": [
       "<Figure size 900x900 with 9 Axes>"
      ]
     },
     "metadata": {},
     "output_type": "display_data"
    }
   ],
   "source": [
    "import numpy as np\n",
    "import seaborn as sns\n",
    "import matplotlib.pyplot as plt\n",
    "\n",
    "sns.set_theme(style=\"white\")\n",
    "rs = np.random.RandomState(50)\n",
    "\n",
    "# Set up the matplotlib figure\n",
    "f, axes = plt.subplots(3, 3, figsize=(9, 9), sharex=True, sharey=True)\n",
    "\n",
    "# Rotate the starting point around the cubehelix hue circle\n",
    "for ax, s in zip(axes.flat, np.linspace(0, 3, 10)):\n",
    "\n",
    "    # Create a cubehelix colormap to use with kdeplot\n",
    "    cmap = sns.cubehelix_palette(start=s, light=1, as_cmap=True)\n",
    "\n",
    "    # Generate and plot a random bivariate dataset\n",
    "    x, y = rs.normal(size=(2, 50))\n",
    "    sns.kdeplot(\n",
    "        x=x, y=y,\n",
    "        cmap=cmap, fill=True,\n",
    "        clip=(-5, 5), cut=10,\n",
    "        thresh=0, levels=15,\n",
    "        ax=ax,\n",
    "    )\n",
    "    ax.set_axis_off()\n",
    "\n",
    "ax.set(xlim=(-3.5, 3.5), ylim=(-3.5, 3.5))\n",
    "f.subplots_adjust(0, 0, 1, 1, .08, .08)"
   ]
  }
 ],
 "metadata": {
  "kernelspec": {
   "display_name": "base",
   "language": "python",
   "name": "python3"
  },
  "language_info": {
   "codemirror_mode": {
    "name": "ipython",
    "version": 3
   },
   "file_extension": ".py",
   "mimetype": "text/x-python",
   "name": "python",
   "nbconvert_exporter": "python",
   "pygments_lexer": "ipython3",
   "version": "3.12.4"
  }
 },
 "nbformat": 4,
 "nbformat_minor": 2
}
