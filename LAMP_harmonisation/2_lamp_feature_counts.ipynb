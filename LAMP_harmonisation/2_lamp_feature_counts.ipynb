{
 "cells": [
  {
   "cell_type": "markdown",
   "metadata": {},
   "source": [
    "# Check how many ChEBIS after LAMP annotation"
   ]
  },
  {
   "cell_type": "code",
   "execution_count": 1,
   "metadata": {},
   "outputs": [],
   "source": [
    "import pandas as pd"
   ]
  },
  {
   "cell_type": "code",
   "execution_count": 16,
   "metadata": {},
   "outputs": [],
   "source": [
    "# MTLBS3852\n",
    "lamp_3852 = pd.read_table('MTBLS3852/res/MTBLS3852_LAMP_mr.tsv', sep='\\t')"
   ]
  },
  {
   "cell_type": "code",
   "execution_count": 21,
   "metadata": {},
   "outputs": [],
   "source": [
    "lamp_3852_chebis = lamp_3852['chebi_id'].astype(object)"
   ]
  },
  {
   "cell_type": "code",
   "execution_count": 22,
   "metadata": {},
   "outputs": [
    {
     "data": {
      "text/plain": [
       "dtype('O')"
      ]
     },
     "execution_count": 22,
     "metadata": {},
     "output_type": "execute_result"
    }
   ],
   "source": [
    "lamp_3852_chebis.dtype"
   ]
  },
  {
   "cell_type": "code",
   "execution_count": 24,
   "metadata": {},
   "outputs": [],
   "source": [
    "lamp_3852_chebis = lamp_3852_chebis.dropna()"
   ]
  },
  {
   "cell_type": "code",
   "execution_count": 27,
   "metadata": {},
   "outputs": [
    {
     "data": {
      "text/plain": [
       "501"
      ]
     },
     "execution_count": 27,
     "metadata": {},
     "output_type": "execute_result"
    }
   ],
   "source": [
    "len(lamp_3852_chebis.unique())"
   ]
  },
  {
   "cell_type": "code",
   "execution_count": 28,
   "metadata": {},
   "outputs": [
    {
     "name": "stdout",
     "output_type": "stream",
     "text": [
      "Unique ChEBIs count for MTBLS3852: 501\n"
     ]
    }
   ],
   "source": [
    "import pandas as pd\n",
    "\n",
    "def process_study_data(study_id):\n",
    "    # Load the data\n",
    "    file_path = f'{study_id}/res/{study_id}_LAMP_mr.tsv'\n",
    "    lamp_data = pd.read_table(file_path, sep='\\t')\n",
    "    \n",
    "    # Extract and process the chebi_id column\n",
    "    lamp_chebis = lamp_data['chebi_id'].astype(object)\n",
    "    lamp_chebis = lamp_chebis.dropna()\n",
    "    \n",
    "    # Return the unique count of chebi_ids\n",
    "    return len(lamp_chebis.unique())\n",
    "\n",
    "# Example usage\n",
    "study_id = 'MTBLS3852'\n",
    "unique_chebis_count = process_study_data(study_id)\n",
    "print(f'Unique ChEBIs count for {study_id}:', unique_chebis_count)"
   ]
  }
 ],
 "metadata": {
  "kernelspec": {
   "display_name": "Python 3",
   "language": "python",
   "name": "python3"
  },
  "language_info": {
   "codemirror_mode": {
    "name": "ipython",
    "version": 3
   },
   "file_extension": ".py",
   "mimetype": "text/x-python",
   "name": "python",
   "nbconvert_exporter": "python",
   "pygments_lexer": "ipython3",
   "version": "3.12.4"
  }
 },
 "nbformat": 4,
 "nbformat_minor": 2
}
