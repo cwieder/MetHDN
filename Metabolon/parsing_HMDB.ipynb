{
 "cells": [
  {
   "cell_type": "markdown",
   "metadata": {},
   "source": [
    "# Parsing the HMDB database"
   ]
  },
  {
   "cell_type": "code",
   "execution_count": 10,
   "metadata": {},
   "outputs": [
    {
     "name": "stderr",
     "output_type": "stream",
     "text": [
      "c:\\Users\\cw2019\\.conda\\envs\\py10\\lib\\site-packages\\numpy\\_distributor_init.py:30: UserWarning: loaded more than 1 DLL from .libs:\n",
      "c:\\Users\\cw2019\\.conda\\envs\\py10\\lib\\site-packages\\numpy\\.libs\\libopenblas.EL2C6PLE4ZYW3ECEVIV3OXXGRN2NRFM2.gfortran-win_amd64.dll\n",
      "c:\\Users\\cw2019\\.conda\\envs\\py10\\lib\\site-packages\\numpy\\.libs\\libopenblas64__v0.3.23-246-g3d31191b-gcc_10_3_0.dll\n",
      "  warnings.warn(\"loaded more than 1 DLL from .libs:\"\n"
     ]
    }
   ],
   "source": [
    "import requests\n",
    "import pandas as pd"
   ]
  },
  {
   "cell_type": "code",
   "execution_count": 18,
   "metadata": {},
   "outputs": [
    {
     "name": "stderr",
     "output_type": "stream",
     "text": [
      "c:\\Users\\cw2019\\.conda\\envs\\py10\\lib\\site-packages\\urllib3\\connectionpool.py:1095: InsecureRequestWarning: Unverified HTTPS request is being made to host 'rampdb.nih.gov'. Adding certificate verification is strongly advised. See: https://urllib3.readthedocs.io/en/latest/advanced-usage.html#tls-warnings\n",
      "  warnings.warn(\n"
     ]
    },
    {
     "name": "stdout",
     "output_type": "stream",
     "text": [
      "200\n"
     ]
    }
   ],
   "source": [
    "api_url = \"https://rampdb.nih.gov/api/chemical-classes\"\n",
    "\n",
    "request_body = {\n",
    "  \"metabolites\": [\n",
    "    \"hmdb:HMDB0000056\",\n",
    "    \"hmdb:HMDB0000057\",\n",
    "  ]\n",
    "}\n",
    "response = requests.post(api_url, json=request_body, verify=False)\n",
    "response.json()\n",
    "\n",
    "print(response.status_code)"
   ]
  },
  {
   "cell_type": "code",
   "execution_count": 25,
   "metadata": {},
   "outputs": [
    {
     "data": {
      "text/plain": [
       "{'sourceId': 'hmdb:HMDB0000056',\n",
       " 'common_names': 'beta-Alanine',\n",
       " 'class_level_name': 'ClassyFire_class',\n",
       " 'class_name': 'Carboxylic acids and derivatives',\n",
       " 'source': 'hmdb',\n",
       " 'directIdClassHits': 1}"
      ]
     },
     "execution_count": 25,
     "metadata": {},
     "output_type": "execute_result"
    }
   ],
   "source": [
    "response.json()['data'][0]"
   ]
  },
  {
   "cell_type": "code",
   "execution_count": 30,
   "metadata": {},
   "outputs": [
    {
     "data": {
      "text/plain": [
       "'{\"data\":[{\"sourceId\":\"hmdb:HMDB0000056\",\"common_names\":\"beta-Alanine\",\"class_level_name\":\"ClassyFire_class\",\"class_name\":\"Carboxylic acids and derivatives\",\"source\":\"hmdb\",\"directIdClassHits\":1},{\"sourceId\":\"hmdb:HMDB0000056\",\"common_names\":\"Beta-Alanine\",\"class_level_name\":\"ClassyFire_sub_class\",\"class_name\":\"Amino acids, peptides, and analogues\",\"source\":\"hmdb\",\"directIdClassHits\":1},{\"sourceId\":\"hmdb:HMDB0000056\",\"common_names\":\"Beta-Alanine\",\"class_level_name\":\"ClassyFire_super_class\",\"class_name\":\"Organic acids and derivatives\",\"source\":\"hmdb\",\"directIdClassHits\":1}],\"function_call\":[\"RaMP::chemicalClassSurvey(c(\\\\\"hmdb:HMDB0000056\\\\\", \\\\\"hmdb:HMDB0000057\\\\\"))\\\\n\"],\"numFoundIds\":[1]}'"
      ]
     },
     "execution_count": 30,
     "metadata": {},
     "output_type": "execute_result"
    }
   ],
   "source": [
    "response.text"
   ]
  },
  {
   "cell_type": "code",
   "execution_count": 31,
   "metadata": {},
   "outputs": [
    {
     "data": {
      "text/html": [
       "<div>\n",
       "<style scoped>\n",
       "    .dataframe tbody tr th:only-of-type {\n",
       "        vertical-align: middle;\n",
       "    }\n",
       "\n",
       "    .dataframe tbody tr th {\n",
       "        vertical-align: top;\n",
       "    }\n",
       "\n",
       "    .dataframe thead th {\n",
       "        text-align: right;\n",
       "    }\n",
       "</style>\n",
       "<table border=\"1\" class=\"dataframe\">\n",
       "  <thead>\n",
       "    <tr style=\"text-align: right;\">\n",
       "      <th></th>\n",
       "      <th>sourceId</th>\n",
       "      <th>common_names</th>\n",
       "      <th>class_level_name</th>\n",
       "      <th>class_name</th>\n",
       "      <th>source</th>\n",
       "      <th>directIdClassHits</th>\n",
       "    </tr>\n",
       "  </thead>\n",
       "  <tbody>\n",
       "    <tr>\n",
       "      <th>0</th>\n",
       "      <td>hmdb:HMDB0000056</td>\n",
       "      <td>beta-Alanine</td>\n",
       "      <td>ClassyFire_class</td>\n",
       "      <td>Carboxylic acids and derivatives</td>\n",
       "      <td>hmdb</td>\n",
       "      <td>1</td>\n",
       "    </tr>\n",
       "    <tr>\n",
       "      <th>1</th>\n",
       "      <td>hmdb:HMDB0000056</td>\n",
       "      <td>Beta-Alanine</td>\n",
       "      <td>ClassyFire_sub_class</td>\n",
       "      <td>Amino acids, peptides, and analogues</td>\n",
       "      <td>hmdb</td>\n",
       "      <td>1</td>\n",
       "    </tr>\n",
       "    <tr>\n",
       "      <th>2</th>\n",
       "      <td>hmdb:HMDB0000056</td>\n",
       "      <td>Beta-Alanine</td>\n",
       "      <td>ClassyFire_super_class</td>\n",
       "      <td>Organic acids and derivatives</td>\n",
       "      <td>hmdb</td>\n",
       "      <td>1</td>\n",
       "    </tr>\n",
       "  </tbody>\n",
       "</table>\n",
       "</div>"
      ],
      "text/plain": [
       "           sourceId  common_names        class_level_name  \\\n",
       "0  hmdb:HMDB0000056  beta-Alanine        ClassyFire_class   \n",
       "1  hmdb:HMDB0000056  Beta-Alanine    ClassyFire_sub_class   \n",
       "2  hmdb:HMDB0000056  Beta-Alanine  ClassyFire_super_class   \n",
       "\n",
       "                             class_name source  directIdClassHits  \n",
       "0      Carboxylic acids and derivatives   hmdb                  1  \n",
       "1  Amino acids, peptides, and analogues   hmdb                  1  \n",
       "2         Organic acids and derivatives   hmdb                  1  "
      ]
     },
     "execution_count": 31,
     "metadata": {},
     "output_type": "execute_result"
    }
   ],
   "source": [
    "pd.DataFrame.from_dict(response.json()['data'])"
   ]
  },
  {
   "cell_type": "code",
   "execution_count": null,
   "metadata": {},
   "outputs": [],
   "source": [
    "def get_class_info(hmdb_ids: list):\n",
    "    api_url = \"https://rampdb.nih.gov/api/chemical-classes\"\n",
    "    request_body = {\n",
    "      \"metabolites\": hmdb_ids\n",
    "    }\n",
    "    response = requests.post(api_url, json=request_body, verify=False)\n",
    "    resp_json = response.json()['data']\n",
    "    resp_df = pd.DataFrame.from_dict(resp_json)\n",
    "    return resp_df"
   ]
  }
 ],
 "metadata": {
  "kernelspec": {
   "display_name": "py10",
   "language": "python",
   "name": "python3"
  },
  "language_info": {
   "codemirror_mode": {
    "name": "ipython",
    "version": 3
   },
   "file_extension": ".py",
   "mimetype": "text/x-python",
   "name": "python",
   "nbconvert_exporter": "python",
   "pygments_lexer": "ipython3",
   "version": "3.10.8"
  }
 },
 "nbformat": 4,
 "nbformat_minor": 2
}
