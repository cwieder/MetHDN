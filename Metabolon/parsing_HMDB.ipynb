{
 "cells": [
  {
   "cell_type": "markdown",
   "metadata": {},
   "source": [
    "# Parsing the HMDB database"
   ]
  },
  {
   "cell_type": "code",
   "execution_count": 10,
   "metadata": {},
   "outputs": [
    {
     "name": "stderr",
     "output_type": "stream",
     "text": [
      "c:\\Users\\cw2019\\.conda\\envs\\py10\\lib\\site-packages\\numpy\\_distributor_init.py:30: UserWarning: loaded more than 1 DLL from .libs:\n",
      "c:\\Users\\cw2019\\.conda\\envs\\py10\\lib\\site-packages\\numpy\\.libs\\libopenblas.EL2C6PLE4ZYW3ECEVIV3OXXGRN2NRFM2.gfortran-win_amd64.dll\n",
      "c:\\Users\\cw2019\\.conda\\envs\\py10\\lib\\site-packages\\numpy\\.libs\\libopenblas64__v0.3.23-246-g3d31191b-gcc_10_3_0.dll\n",
      "  warnings.warn(\"loaded more than 1 DLL from .libs:\"\n"
     ]
    }
   ],
   "source": [
    "import requests\n",
    "import pandas as pd"
   ]
  },
  {
   "cell_type": "code",
   "execution_count": 18,
   "metadata": {},
   "outputs": [
    {
     "name": "stderr",
     "output_type": "stream",
     "text": [
      "c:\\Users\\cw2019\\.conda\\envs\\py10\\lib\\site-packages\\urllib3\\connectionpool.py:1095: InsecureRequestWarning: Unverified HTTPS request is being made to host 'rampdb.nih.gov'. Adding certificate verification is strongly advised. See: https://urllib3.readthedocs.io/en/latest/advanced-usage.html#tls-warnings\n",
      "  warnings.warn(\n"
     ]
    },
    {
     "name": "stdout",
     "output_type": "stream",
     "text": [
      "200\n"
     ]
    }
   ],
   "source": [
    "api_url = \"https://rampdb.nih.gov/api/chemical-classes\"\n",
    "\n",
    "request_body = {\n",
    "  \"metabolites\": [\n",
    "    \"hmdb:HMDB0000056\",\n",
    "    \"hmdb:HMDB0000057\",\n",
    "  ]\n",
    "}\n",
    "response = requests.post(api_url, json=request_body, verify=False)\n",
    "response.json()\n",
    "\n",
    "print(response.status_code)"
   ]
  },
  {
   "cell_type": "code",
   "execution_count": 21,
   "metadata": {},
   "outputs": [
    {
     "data": {
      "text/plain": [
       "{'data': [{'sourceId': 'hmdb:HMDB0000056',\n",
       "   'common_names': 'beta-Alanine',\n",
       "   'class_level_name': 'ClassyFire_class',\n",
       "   'class_name': 'Carboxylic acids and derivatives',\n",
       "   'source': 'hmdb',\n",
       "   'directIdClassHits': 1},\n",
       "  {'sourceId': 'hmdb:HMDB0000056',\n",
       "   'common_names': 'Beta-Alanine',\n",
       "   'class_level_name': 'ClassyFire_sub_class',\n",
       "   'class_name': 'Amino acids, peptides, and analogues',\n",
       "   'source': 'hmdb',\n",
       "   'directIdClassHits': 1},\n",
       "  {'sourceId': 'hmdb:HMDB0000056',\n",
       "   'common_names': 'Beta-Alanine',\n",
       "   'class_level_name': 'ClassyFire_super_class',\n",
       "   'class_name': 'Organic acids and derivatives',\n",
       "   'source': 'hmdb',\n",
       "   'directIdClassHits': 1}],\n",
       " 'function_call': ['RaMP::chemicalClassSurvey(c(\"hmdb:HMDB0000056\", \"hmdb:HMDB0000057\"))\\n'],\n",
       " 'numFoundIds': [1]}"
      ]
     },
     "execution_count": 21,
     "metadata": {},
     "output_type": "execute_result"
    }
   ],
   "source": [
    "response.json()"
   ]
  }
 ],
 "metadata": {
  "kernelspec": {
   "display_name": "py10",
   "language": "python",
   "name": "python3"
  },
  "language_info": {
   "codemirror_mode": {
    "name": "ipython",
    "version": 3
   },
   "file_extension": ".py",
   "mimetype": "text/x-python",
   "name": "python",
   "nbconvert_exporter": "python",
   "pygments_lexer": "ipython3",
   "version": "3.10.8"
  }
 },
 "nbformat": 4,
 "nbformat_minor": 2
}
